{
 "cells": [
  {
   "cell_type": "code",
   "execution_count": 3,
   "metadata": {},
   "outputs": [],
   "source": [
    "import pandas as pd\n",
    "import numpy as np\n",
    "import os\n",
    "import tensorflow as tf\n",
    "from utils.tfrecord_utils import create_dataset\n",
    "from utils.helpers import list_all_subject_ids"
   ]
  },
  {
   "cell_type": "markdown",
   "metadata": {},
   "source": [
    "# Stuff - 1"
   ]
  },
  {
   "cell_type": "code",
   "execution_count": 90,
   "metadata": {},
   "outputs": [],
   "source": []
  },
  {
   "cell_type": "code",
   "execution_count": 71,
   "metadata": {},
   "outputs": [],
   "source": [
    "# Participation dates for raster plots\n",
    "\n",
    "pred_path = 'Results/Predictions/Wave-2/ds_best_on_all'\n",
    "output_path = 'data/Wave-2'\n",
    "\n",
    "participation_dates = {}\n",
    "for id in list_all_subject_ids(pred_path):\n",
    "    # fn = fn[0]\n",
    "    pred_df = pd.read_csv(f\"{pred_path}/sub_{id}.csv\")\n",
    "    pred_df['epoch_ts'] = pd.to_datetime(pred_df['epoch_ts'])\n",
    "\n",
    "    participation_dates[id] = {\n",
    "        'subject_id': id,\n",
    "        'start_timestamp': pred_df['epoch_ts'].min().replace(hour=12, minute=0, second=0),\n",
    "        'end_timestamp': pred_df['epoch_ts'].max().replace(hour=12, minute=0, second=0),\n",
    "    }\n",
    "    \n",
    "dates_df = pd.DataFrame.from_dict(participation_dates, orient='index').reset_index(drop=True)\n",
    "dates_df.sort_values('subject_id').to_csv(f\"{output_path}/participation_dates.csv\", index=False)"
   ]
  },
  {
   "cell_type": "code",
   "execution_count": 74,
   "metadata": {},
   "outputs": [],
   "source": [
    "psg_label_path = 'data/Wave-2/PSG-Labels'\n",
    "out_path = psg_label_path + '/processed'\n",
    "files = [fn for fn in os.listdir(psg_label_path) if fn.startswith('Sleep profile')]\n",
    "os.makedirs(out_path, exist_ok=True)\n",
    "\n",
    "for fn in files:\n",
    "    with open(f\"{psg_label_path}/{fn}\", 'r') as f:\n",
    "        lines = f.readlines()[7:]\n",
    "    with open(f\"{out_path}/{fn}\", 'w') as f:\n",
    "        f.writelines(lines)\n"
   ]
  },
  {
   "cell_type": "code",
   "execution_count": 93,
   "metadata": {},
   "outputs": [],
   "source": [
    "# Concat the biobank output files for each subejct\n",
    "\n",
    "path = 'data/Wave-2/Toolbox Outputs/raw'\n",
    "outpath = 'data/Wave-2/Toolbox Outputs'\n",
    "subject_ids = list_all_subject_ids(path, file_type='csv.gz')\n",
    "\n",
    "for subject_id in subject_ids:\n",
    "    subject_files = [fn for fn in os.listdir(path) if (fn.find(subject_id) >= 0) and (fn.find('.csv') >= 0)]\n",
    "\n",
    "    subject_dfs = []\n",
    "    for fn in subject_files:\n",
    "        subject_dfs.append(pd.read_csv(f\"{path}/{fn}\", compression='gzip'))\n",
    "    \n",
    "    subject_df = pd.concat(subject_dfs).sort_values('time')\n",
    "\n",
    "    subject_df.to_csv(f'{outpath}/biobank_{subject_id}.csv', index=False)"
   ]
  },
  {
   "cell_type": "markdown",
   "metadata": {},
   "source": [
    "# 2"
   ]
  },
  {
   "cell_type": "code",
   "execution_count": 25,
   "metadata": {},
   "outputs": [
    {
     "data": {
      "text/html": [
       "<div>\n",
       "<style scoped>\n",
       "    .dataframe tbody tr th:only-of-type {\n",
       "        vertical-align: middle;\n",
       "    }\n",
       "\n",
       "    .dataframe tbody tr th {\n",
       "        vertical-align: top;\n",
       "    }\n",
       "\n",
       "    .dataframe thead th {\n",
       "        text-align: right;\n",
       "    }\n",
       "</style>\n",
       "<table border=\"1\" class=\"dataframe\">\n",
       "  <thead>\n",
       "    <tr style=\"text-align: right;\">\n",
       "      <th></th>\n",
       "      <th>subject_id</th>\n",
       "      <th>lights_off</th>\n",
       "      <th>lights_on</th>\n",
       "    </tr>\n",
       "  </thead>\n",
       "  <tbody>\n",
       "    <tr>\n",
       "      <th>0</th>\n",
       "      <td>D001</td>\n",
       "      <td>2023-03-08 23:00:00</td>\n",
       "      <td>2023-03-09 05:15:00</td>\n",
       "    </tr>\n",
       "    <tr>\n",
       "      <th>1</th>\n",
       "      <td>D001</td>\n",
       "      <td>2023-03-09 21:15:00</td>\n",
       "      <td>2023-03-10 05:15:00</td>\n",
       "    </tr>\n",
       "    <tr>\n",
       "      <th>2</th>\n",
       "      <td>D001</td>\n",
       "      <td>2023-03-10 22:10:00</td>\n",
       "      <td>2023-03-11 05:44:00</td>\n",
       "    </tr>\n",
       "    <tr>\n",
       "      <th>3</th>\n",
       "      <td>D001</td>\n",
       "      <td>2023-03-11 22:15:00</td>\n",
       "      <td>2023-03-12 06:14:00</td>\n",
       "    </tr>\n",
       "    <tr>\n",
       "      <th>4</th>\n",
       "      <td>D001</td>\n",
       "      <td>2023-03-12 22:14:00</td>\n",
       "      <td>2023-03-13 05:30:00</td>\n",
       "    </tr>\n",
       "    <tr>\n",
       "      <th>...</th>\n",
       "      <td>...</td>\n",
       "      <td>...</td>\n",
       "      <td>...</td>\n",
       "    </tr>\n",
       "    <tr>\n",
       "      <th>580</th>\n",
       "      <td>P014</td>\n",
       "      <td>2024-04-19 00:15:00</td>\n",
       "      <td>2024-04-19 07:00:00</td>\n",
       "    </tr>\n",
       "    <tr>\n",
       "      <th>581</th>\n",
       "      <td>P014</td>\n",
       "      <td>2024-04-20 00:00:00</td>\n",
       "      <td>2024-04-20 08:00:00</td>\n",
       "    </tr>\n",
       "    <tr>\n",
       "      <th>582</th>\n",
       "      <td>P014</td>\n",
       "      <td>2024-04-21 00:00:00</td>\n",
       "      <td>2024-04-21 07:00:00</td>\n",
       "    </tr>\n",
       "    <tr>\n",
       "      <th>583</th>\n",
       "      <td>P014</td>\n",
       "      <td>2024-04-22 00:00:00</td>\n",
       "      <td>2024-04-22 07:00:00</td>\n",
       "    </tr>\n",
       "    <tr>\n",
       "      <th>584</th>\n",
       "      <td>P014</td>\n",
       "      <td>2024-04-22 23:00:00</td>\n",
       "      <td>2024-04-23 07:15:00</td>\n",
       "    </tr>\n",
       "  </tbody>\n",
       "</table>\n",
       "<p>537 rows × 3 columns</p>\n",
       "</div>"
      ],
      "text/plain": [
       "    subject_id          lights_off           lights_on\n",
       "0         D001 2023-03-08 23:00:00 2023-03-09 05:15:00\n",
       "1         D001 2023-03-09 21:15:00 2023-03-10 05:15:00\n",
       "2         D001 2023-03-10 22:10:00 2023-03-11 05:44:00\n",
       "3         D001 2023-03-11 22:15:00 2023-03-12 06:14:00\n",
       "4         D001 2023-03-12 22:14:00 2023-03-13 05:30:00\n",
       "..         ...                 ...                 ...\n",
       "580       P014 2024-04-19 00:15:00 2024-04-19 07:00:00\n",
       "581       P014 2024-04-20 00:00:00 2024-04-20 08:00:00\n",
       "582       P014 2024-04-21 00:00:00 2024-04-21 07:00:00\n",
       "583       P014 2024-04-22 00:00:00 2024-04-22 07:00:00\n",
       "584       P014 2024-04-22 23:00:00 2024-04-23 07:15:00\n",
       "\n",
       "[537 rows x 3 columns]"
      ]
     },
     "execution_count": 25,
     "metadata": {},
     "output_type": "execute_result"
    }
   ],
   "source": []
  }
 ],
 "metadata": {
  "kernelspec": {
   "display_name": "sleep",
   "language": "python",
   "name": "python3"
  },
  "language_info": {
   "codemirror_mode": {
    "name": "ipython",
    "version": 3
   },
   "file_extension": ".py",
   "mimetype": "text/x-python",
   "name": "python",
   "nbconvert_exporter": "python",
   "pygments_lexer": "ipython3",
   "version": "3.11.5"
  }
 },
 "nbformat": 4,
 "nbformat_minor": 2
}
