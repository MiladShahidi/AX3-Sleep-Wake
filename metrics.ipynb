{
 "cells": [
  {
   "cell_type": "code",
   "execution_count": 8,
   "metadata": {},
   "outputs": [],
   "source": [
    "import os\n",
    "from actipy import read_device\n",
    "import matplotlib.pyplot as plt\n",
    "from config import project_config as config\n",
    "import pandas as pd"
   ]
  },
  {
   "cell_type": "code",
   "execution_count": 9,
   "metadata": {},
   "outputs": [],
   "source": [
    "# from config import project_config as config\n",
    "\n",
    "# psg_markers_path = 'data/PSG markers/'\n",
    "# for id in config['subject_ids']:\n",
    "#     df = pd.read_csv(f'{psg_markers_path}/Markers_{id:03d}.txt', skiprows=3, header=None)\n",
    "#     df = df.rename(columns={0: 'time', 1: 'event'})\n",
    "#     df['event'] = df['event'].transform(lambda s: s.split(';')[1].strip())\n",
    "#     lights_fltr = df['event'].str.lower().str.find('lights') >= 0\n",
    "#     display(df[lights_fltr])"
   ]
  },
  {
   "cell_type": "code",
   "execution_count": 10,
   "metadata": {},
   "outputs": [],
   "source": [
    "# aws_labels_path = 'data/AWS-Labels'\n",
    "# aws_df = pd.read_csv(f'{aws_labels_path}/mesa-sleep-{id:04d}_Date_time.csv')\n",
    "\n",
    "# aws_df['Date_time'] = pd.to_datetime(aws_df['Date_time'])\n",
    "# day_change_fltr = aws_df['Date_time'].dt.date.diff() > np.timedelta64(1, 's')\n",
    "# plt.plot(aws_df.index, aws_df['White Light'])\n",
    "# plt.vlines(x=aws_df[day_change_fltr].index, ymin=0, ymax=25000, color='red', linestyle='dashed')\n",
    "# plt.ylim((0, 10000))\n",
    "# plt.savefig('lights.png', dpi=300)"
   ]
  },
  {
   "cell_type": "code",
   "execution_count": 11,
   "metadata": {},
   "outputs": [],
   "source": [
    "from config import project_config as config\n",
    "from utils.sleep_wake_filter import filter_sleep_series\n",
    "import pandas as pd\n",
    "from sklearn.metrics import (\n",
    "    f1_score,\n",
    "    precision_score,\n",
    "    recall_score,\n",
    "    classification_report,\n",
    "    cohen_kappa_score\n",
    "    )\n",
    "\n",
    "if __name__ == '__main__':\n",
    "\n",
    "    merged_sources_path = 'Results/merged_sources/'\n",
    "    label = 'AWS Sleep'\n",
    "    models = ['pred', 'Biobank Sleep']\n",
    "    results = pd.DataFrame()\n",
    "    all_preds = pd.DataFrame()\n",
    "    for id in config['subject_ids']:\n",
    "\n",
    "        df = pd.read_csv(f'{merged_sources_path}/sub_{id:02d}.csv')\n",
    "        df = df.dropna(subset=[label] + models)  # Drop epochs without a label or prediction\n",
    "        \n",
    "        # # # #\n",
    "        df['pred'] = (df['pred_score'] >= 0.5).astype(int)\n",
    "        # # # #\n",
    "\n",
    "        df['pred'] = filter_sleep_series(df['pred'])\n",
    "        all_preds = pd.concat([all_preds, df])\n",
    "\n",
    "        metrics = {\n",
    "            'F-1': f1_score,\n",
    "            'Recall': recall_score,\n",
    "            'Precision': precision_score,\n",
    "            \"Cohen's Kappa\": lambda y_true, y_pred: cohen_kappa_score(y1=y_true, y2=y_pred),\n",
    "            'Specificity': lambda y_true, y_pred: classification_report(y_true=y_true, y_pred=y_pred, output_dict=True, labels=[0, 1])['0']['precision']\n",
    "        }\n",
    "        \n",
    "        for model in models:\n",
    "            metric_values = {metric: [] for metric in metrics.keys()}  # Placeholder for metric values\n",
    "            for metric, metric_fn in metrics.items():\n",
    "                temp_df = df.dropna(subset=[model])  # Drop epochs for which this model doesn't have an output\n",
    "                metric_value = metric_fn(y_pred=temp_df[model], y_true=temp_df[label])\n",
    "                metric_values[metric].append(round(metric_value * 100, 2))\n",
    "\n",
    "            metrics_df = pd.DataFrame(metric_values)\n",
    "            metrics_df.insert(0, 'Subject ID', id)\n",
    "            metrics_df.insert(1, 'Model', model)\n",
    "            \n",
    "            results = pd.concat([results, metrics_df])\n",
    "\n",
    "    results.to_csv('Metrics.csv', index=False)\n"
   ]
  },
  {
   "cell_type": "code",
   "execution_count": 12,
   "metadata": {},
   "outputs": [
    {
     "name": "stdout",
     "output_type": "stream",
     "text": [
      "--------------------------------------------------------------------------------\n",
      "Us\n"
     ]
    },
    {
     "data": {
      "text/html": [
       "<div>\n",
       "<style scoped>\n",
       "    .dataframe tbody tr th:only-of-type {\n",
       "        vertical-align: middle;\n",
       "    }\n",
       "\n",
       "    .dataframe tbody tr th {\n",
       "        vertical-align: top;\n",
       "    }\n",
       "\n",
       "    .dataframe thead th {\n",
       "        text-align: right;\n",
       "    }\n",
       "</style>\n",
       "<table border=\"1\" class=\"dataframe\">\n",
       "  <thead>\n",
       "    <tr style=\"text-align: right;\">\n",
       "      <th></th>\n",
       "      <th>precision</th>\n",
       "      <th>recall</th>\n",
       "      <th>f1-score</th>\n",
       "      <th>support</th>\n",
       "    </tr>\n",
       "  </thead>\n",
       "  <tbody>\n",
       "    <tr>\n",
       "      <th>0.0</th>\n",
       "      <td>0.829305</td>\n",
       "      <td>0.694357</td>\n",
       "      <td>0.755855</td>\n",
       "      <td>6.112270e+05</td>\n",
       "    </tr>\n",
       "    <tr>\n",
       "      <th>1.0</th>\n",
       "      <td>0.660129</td>\n",
       "      <td>0.805966</td>\n",
       "      <td>0.725794</td>\n",
       "      <td>4.502100e+05</td>\n",
       "    </tr>\n",
       "    <tr>\n",
       "      <th>accuracy</th>\n",
       "      <td>0.741696</td>\n",
       "      <td>0.741696</td>\n",
       "      <td>0.741696</td>\n",
       "      <td>7.416964e-01</td>\n",
       "    </tr>\n",
       "    <tr>\n",
       "      <th>macro avg</th>\n",
       "      <td>0.744717</td>\n",
       "      <td>0.750162</td>\n",
       "      <td>0.740825</td>\n",
       "      <td>1.061437e+06</td>\n",
       "    </tr>\n",
       "    <tr>\n",
       "      <th>weighted avg</th>\n",
       "      <td>0.757549</td>\n",
       "      <td>0.741696</td>\n",
       "      <td>0.743105</td>\n",
       "      <td>1.061437e+06</td>\n",
       "    </tr>\n",
       "  </tbody>\n",
       "</table>\n",
       "</div>"
      ],
      "text/plain": [
       "              precision    recall  f1-score       support\n",
       "0.0            0.829305  0.694357  0.755855  6.112270e+05\n",
       "1.0            0.660129  0.805966  0.725794  4.502100e+05\n",
       "accuracy       0.741696  0.741696  0.741696  7.416964e-01\n",
       "macro avg      0.744717  0.750162  0.740825  1.061437e+06\n",
       "weighted avg   0.757549  0.741696  0.743105  1.061437e+06"
      ]
     },
     "metadata": {},
     "output_type": "display_data"
    },
    {
     "name": "stdout",
     "output_type": "stream",
     "text": [
      "--------------------------------------------------------------------------------\n",
      "Biobank\n"
     ]
    },
    {
     "data": {
      "text/html": [
       "<div>\n",
       "<style scoped>\n",
       "    .dataframe tbody tr th:only-of-type {\n",
       "        vertical-align: middle;\n",
       "    }\n",
       "\n",
       "    .dataframe tbody tr th {\n",
       "        vertical-align: top;\n",
       "    }\n",
       "\n",
       "    .dataframe thead th {\n",
       "        text-align: right;\n",
       "    }\n",
       "</style>\n",
       "<table border=\"1\" class=\"dataframe\">\n",
       "  <thead>\n",
       "    <tr style=\"text-align: right;\">\n",
       "      <th></th>\n",
       "      <th>precision</th>\n",
       "      <th>recall</th>\n",
       "      <th>f1-score</th>\n",
       "      <th>support</th>\n",
       "    </tr>\n",
       "  </thead>\n",
       "  <tbody>\n",
       "    <tr>\n",
       "      <th>0.0</th>\n",
       "      <td>0.846528</td>\n",
       "      <td>0.910528</td>\n",
       "      <td>0.877362</td>\n",
       "      <td>6.112270e+05</td>\n",
       "    </tr>\n",
       "    <tr>\n",
       "      <th>1.0</th>\n",
       "      <td>0.864634</td>\n",
       "      <td>0.775887</td>\n",
       "      <td>0.817860</td>\n",
       "      <td>4.502100e+05</td>\n",
       "    </tr>\n",
       "    <tr>\n",
       "      <th>accuracy</th>\n",
       "      <td>0.853419</td>\n",
       "      <td>0.853419</td>\n",
       "      <td>0.853419</td>\n",
       "      <td>8.534195e-01</td>\n",
       "    </tr>\n",
       "    <tr>\n",
       "      <th>macro avg</th>\n",
       "      <td>0.855581</td>\n",
       "      <td>0.843207</td>\n",
       "      <td>0.847611</td>\n",
       "      <td>1.061437e+06</td>\n",
       "    </tr>\n",
       "    <tr>\n",
       "      <th>weighted avg</th>\n",
       "      <td>0.854208</td>\n",
       "      <td>0.853419</td>\n",
       "      <td>0.852124</td>\n",
       "      <td>1.061437e+06</td>\n",
       "    </tr>\n",
       "  </tbody>\n",
       "</table>\n",
       "</div>"
      ],
      "text/plain": [
       "              precision    recall  f1-score       support\n",
       "0.0            0.846528  0.910528  0.877362  6.112270e+05\n",
       "1.0            0.864634  0.775887  0.817860  4.502100e+05\n",
       "accuracy       0.853419  0.853419  0.853419  8.534195e-01\n",
       "macro avg      0.855581  0.843207  0.847611  1.061437e+06\n",
       "weighted avg   0.854208  0.853419  0.852124  1.061437e+06"
      ]
     },
     "metadata": {},
     "output_type": "display_data"
    }
   ],
   "source": [
    "from sklearn.metrics import classification_report\n",
    "from pprint import pprint\n",
    "\n",
    "print('-' * 80)\n",
    "print('Us')\n",
    "rep = classification_report(y_true=all_preds[label], y_pred=all_preds['pred'], output_dict=True)\n",
    "display(pd.DataFrame(rep).transpose())\n",
    "\n",
    "print('-' * 80)\n",
    "print('Biobank')\n",
    "rep = classification_report(y_true=all_preds[label], y_pred=all_preds['Biobank Sleep'], output_dict=True)\n",
    "display(pd.DataFrame(rep).transpose())"
   ]
  },
  {
   "cell_type": "code",
   "execution_count": 14,
   "metadata": {},
   "outputs": [
    {
     "name": "stderr",
     "output_type": "stream",
     "text": [
      "/var/folders/5m/znlstgm107v6b4cw5_hs0dgc0000gp/T/ipykernel_15997/2218218967.py:8: RuntimeWarning: invalid value encountered in divide\n",
      "  f1_scores = 2*rc*pr/(rc+pr)\n"
     ]
    },
    {
     "data": {
      "text/plain": [
       "<matplotlib.legend.Legend at 0x33570f550>"
      ]
     },
     "execution_count": 14,
     "metadata": {},
     "output_type": "execute_result"
    },
    {
     "data": {
      "image/png": "[encoded data removed]",
      "text/plain": [
       "<Figure size 640x480 with 1 Axes>"
      ]
     },
     "metadata": {},
     "output_type": "display_data"
    },
    {
     "data": {
      "image/png": "[encoded data removed]",
      "text/plain": [
       "<Figure size 640x480 with 1 Axes>"
      ]
     },
     "metadata": {},
     "output_type": "display_data"
    }
   ],
   "source": [
    "from sklearn.metrics import PrecisionRecallDisplay, precision_recall_curve\n",
    "import matplotlib.pyplot as plt\n",
    "import numpy as np\n",
    "\n",
    "# PrecisionRecallDisplay.from_predictions(y_pred=all_preds['pred_score'], y_true=all_preds[label])\n",
    "pr, rc, th = precision_recall_curve(probas_pred=all_preds['pred_score'], y_true=all_preds[label])\n",
    "plt.plot(rc, pr)\n",
    "f1_scores = 2*rc*pr/(rc+pr)\n",
    "plt.figure()\n",
    "plt.plot(th, f1_scores[1:], label='F1')\n",
    "plt.plot(th, pr[1:], label='Precision')\n",
    "plt.plot(th, rc[1:],  label='Recall')\n",
    "plt.legend()\n"
   ]
  },
  {
   "cell_type": "code",
   "execution_count": null,
   "metadata": {},
   "outputs": [],
   "source": []
  }
 ],
 "metadata": {
  "kernelspec": {
   "display_name": "sleep",
   "language": "python",
   "name": "python3"
  },
  "language_info": {
   "codemirror_mode": {
    "name": "ipython",
    "version": 3
   },
   "file_extension": ".py",
   "mimetype": "text/x-python",
   "name": "python",
   "nbconvert_exporter": "python",
   "pygments_lexer": "ipython3",
   "version": "3.11.5"
  }
 },
 "nbformat": 4,
 "nbformat_minor": 2
}
