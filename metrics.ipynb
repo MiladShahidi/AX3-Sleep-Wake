{
 "cells": [
  {
   "cell_type": "code",
   "execution_count": 142,
   "metadata": {},
   "outputs": [],
   "source": [
    "from config import project_config as config\n",
    "from utils.sleep_wake_filter import filter_sleep_series\n",
    "import pandas as pd\n",
    "from utils.data_utils import read_sleep_dairies\n",
    "from sklearn.metrics import (\n",
    "    f1_score,\n",
    "    precision_score,\n",
    "    recall_score,\n",
    "    classification_report,\n",
    "    cohen_kappa_score\n",
    "    )\n",
    "\n",
    "merged_sources_path = 'Results/merged_indicators'\n",
    "label = 'AWS Sleep'\n",
    "models = ['pred_AWS-CNN', 'pred_PSG-CNN', 'Biobank Sleep']\n",
    "sleep_diaries_path = 'data/Sleep diaries'\n",
    "diaries_df = read_sleep_dairies(sleep_diaries_path).rename(columns={'participantNo': 'subject_id'})\n",
    "\n",
    "results = pd.DataFrame()\n",
    "all_preds = pd.DataFrame()\n",
    "for id in config['subject_ids']:\n",
    "\n",
    "    subject_diary = diaries_df[diaries_df['subject_id'] == id]\n",
    "\n",
    "    df = pd.read_csv(f'{merged_sources_path}/sub_{id:02d}.csv')\n",
    "    df['epoch_ts'] = pd.to_datetime(df['epoch_ts'])\n",
    "    # df = df.dropna(subset=[label] + models)  # Drop epochs without a label or prediction\n",
    "    df.insert(0, 'subject_id', id)\n",
    "    \n",
    "    # df['pred_AWS-CNN'] = filter_sleep_series(df['pred_AWS-CNN'])\n",
    "    # df['pred_PSG-CNN'] = filter_sleep_series(df['pred_PSG-CNN'])\n",
    "    \n",
    "    # Here we mark the epochs between sleep start and sleep end as recorded in sleep diary\n",
    "    # This is how it's done.\n",
    "    # Create a column that's =1 for sleep_start epochs\n",
    "    # Create a column that's =-1 for sleep_end epochs\n",
    "    # Combine the two column so that the new \"in-bed\" column has a 1 when sleep start and a -1 when it ends\n",
    "    # Then find the cumulative sum of the in-bed column. The cumsum will be 1 between sleep start and sleep end\n",
    "    # and 0 elsewhere\n",
    "    df['sleep_start'] = df['epoch_ts'].isin(subject_diary['sleep_start']).astype(int)\n",
    "    df['sleep_end'] = df['epoch_ts'].isin(subject_diary['sleep_end']).astype(int).map({0: 0, 1: -1})  # Mark end of sleep with -1\n",
    "    \n",
    "    # merge the two columns. We can simply add them, because they are never non-zero on the same row. i.e. start timestamp and end timestamp are never the same\n",
    "    df['in-bed'] = df['sleep_start'] + df['sleep_end']\n",
    "    df['in-bed'] = df['in-bed'].cumsum()\n",
    "\n",
    "    df = df.drop(columns=['sleep_start', 'sleep_end'])\n",
    "\n",
    "    all_preds = pd.concat([all_preds, df])\n",
    "\n",
    "    # metrics = {\n",
    "    #     'F-1': f1_score,\n",
    "    #     'Recall': recall_score,\n",
    "    #     'Precision': precision_score,\n",
    "    #     \"Cohen's Kappa\": lambda y_true, y_pred: cohen_kappa_score(y1=y_true, y2=y_pred),\n",
    "    #     'Specificity': lambda y_true, y_pred: classification_report(y_true=y_true, y_pred=y_pred, output_dict=True, labels=[0, 1])['0']['precision']\n",
    "    # }\n",
    "    \n",
    "#     for model in models:\n",
    "#         metric_values = {metric: [] for metric in metrics.keys()}  # Placeholder for metric values\n",
    "#         for metric, metric_fn in metrics.items():\n",
    "#             temp_df = df.dropna(subset=[model])  # Drop epochs for which this model doesn't have an output\n",
    "#             metric_value = metric_fn(y_pred=temp_df[model], y_true=temp_df[label])\n",
    "#             metric_values[metric].append(round(metric_value * 100, 2))\n",
    "\n",
    "#         metrics_df = pd.DataFrame(metric_values)\n",
    "#         metrics_df.insert(0, 'Subject ID', id)\n",
    "#         metrics_df.insert(1, 'Model', model)\n",
    "        \n",
    "#         results = pd.concat([results, metrics_df])\n",
    "\n",
    "# results.to_csv('Metrics.csv', index=False)\n"
   ]
  },
  {
   "cell_type": "code",
   "execution_count": 143,
   "metadata": {},
   "outputs": [
    {
     "name": "stdout",
     "output_type": "stream",
     "text": [
      "AWS Model\n",
      "              precision    recall  f1-score   support\n",
      "\n",
      "         0.0       0.47      0.44      0.45     41235\n",
      "         1.0       0.92      0.93      0.92    275472\n",
      "\n",
      "    accuracy                           0.86    316707\n",
      "   macro avg       0.69      0.68      0.69    316707\n",
      "weighted avg       0.86      0.86      0.86    316707\n",
      "\n",
      "Biobank\n",
      "              precision    recall  f1-score   support\n",
      "\n",
      "         0.0       0.67      0.27      0.39     41235\n",
      "         1.0       0.90      0.98      0.94    275472\n",
      "\n",
      "    accuracy                           0.89    316707\n",
      "   macro avg       0.79      0.63      0.66    316707\n",
      "weighted avg       0.87      0.89      0.87    316707\n",
      "\n"
     ]
    }
   ],
   "source": [
    "from sklearn.metrics import classification_report\n",
    "in_bed_preds = all_preds[all_preds['in-bed'] == 1]\n",
    "temp_df = in_bed_preds.dropna(subset=['AWS Sleep', 'Biobank Sleep', 'pred_AWS-CNN'])\n",
    "# temp_df = temp_df[temp_df['subject_id'] <= 18]\n",
    "print('AWS Model')\n",
    "print(classification_report(y_true=temp_df['AWS Sleep'], y_pred=temp_df['pred_AWS-CNN']))\n",
    "print('Biobank')\n",
    "print(classification_report(y_true=temp_df['AWS Sleep'], y_pred=temp_df['Biobank Sleep']))"
   ]
  },
  {
   "cell_type": "markdown",
   "metadata": {},
   "source": [
    "# PSG vs AWS"
   ]
  },
  {
   "cell_type": "code",
   "execution_count": null,
   "metadata": {},
   "outputs": [],
   "source": [
    "from utils.data_utils import read_PSG_labels, read_AWS_labels\n",
    "from config import project_config as config\n",
    "import pandas as pd\n",
    "from sklearn.metrics import classification_report\n",
    "from sklearn.metrics import cohen_kappa_score\n",
    "\n",
    "aws_labels_path = 'data/AWS-Labels'\n",
    "psg_labels_path = f'data/PSG-Labels'\n",
    "\n",
    "psg_df = pd.DataFrame()\n",
    "aws_df = pd.DataFrame()\n",
    "for id in config['subject_ids'][:18]:\n",
    "\n",
    "    subject_psg_df = read_PSG_labels(psg_labels_path, id)\n",
    "    subject_psg_df.insert(0, 'subject_id', id)\n",
    "    subject_psg_df['time_in_minutes'] = subject_psg_df['epoch_ts'].dt.floor('min')\n",
    "\n",
    "    subject_aws_df = read_AWS_labels(aws_labels_path, id)\n",
    "    subject_aws_df.insert(0, 'subject_id', id)\n",
    "\n",
    "    psg_df = pd.concat([psg_df, subject_psg_df])\n",
    "    aws_df = pd.concat([aws_df, subject_aws_df])\n",
    "\n",
    "labels_df = pd.merge(\n",
    "    left=psg_df,\n",
    "    right=aws_df,\n",
    "    left_on=['subject_id', 'time_in_minutes'],\n",
    "    right_on=['subject_id', 'AWS time'],\n",
    "    how='inner'\n",
    ")\n",
    "\n",
    "psg_f1 = {}\n",
    "for id in config['subject_ids'][:18]:\n",
    "    print(f'Subject {id}')\n",
    "    temp_df = labels_df[labels_df['subject_id'] == id]\n",
    "    psg_perf = classification_report(y_true=temp_df['AWS Sleep'], y_pred=temp_df['PSG Sleep'], output_dict=True)\n",
    "    psg_f1[id] = psg_perf['weighted avg']['f1-score']"
   ]
  },
  {
   "cell_type": "code",
   "execution_count": 108,
   "metadata": {},
   "outputs": [
    {
     "data": {
      "text/plain": [
       "subject_id\n",
       "13    0.115481\n",
       "11    0.134064\n",
       "10    0.142259\n",
       "7     0.149916\n",
       "8     0.153589\n",
       "4     0.169111\n",
       "9     0.178069\n",
       "14    0.180672\n",
       "17    0.185000\n",
       "12    0.243558\n",
       "3     0.259599\n",
       "18    0.261785\n",
       "15    0.272422\n",
       "16    0.273490\n",
       "6     0.289167\n",
       "1     0.295550\n",
       "5     0.301084\n",
       "2     0.326105\n",
       "Name: disagreement, dtype: float64"
      ]
     },
     "execution_count": 108,
     "metadata": {},
     "output_type": "execute_result"
    }
   ],
   "source": [
    "# Mismatch between PSG and AWS\n",
    "labels_df['disagreement'] = (labels_df['AWS Sleep'] != labels_df['PSG Sleep']).astype(int)\n",
    "labels_df.groupby('subject_id')['disagreement'].mean().sort_values()"
   ]
  },
  {
   "cell_type": "markdown",
   "metadata": {},
   "source": [
    "# Correlating PSG's match (with AWS) to our performance"
   ]
  },
  {
   "cell_type": "code",
   "execution_count": null,
   "metadata": {},
   "outputs": [
    {
     "data": {
      "text/plain": [
       "array([[1.        , 0.35641188],\n",
       "       [0.35641188, 1.        ]])"
      ]
     },
     "execution_count": 37,
     "metadata": {},
     "output_type": "execute_result"
    },
    {
     "data": {
      "image/png": "[encoded data removed]",
      "text/plain": [
       "<Figure size 640x480 with 1 Axes>"
      ]
     },
     "metadata": {},
     "output_type": "display_data"
    }
   ],
   "source": [
    "import matplotlib.pyplot as plt\n",
    "import numpy as np\n",
    "\n",
    "f1_df = pd.DataFrame.from_dict(f1, orient='index')\n",
    "psg_f1_df = pd.DataFrame.from_dict(psg_f1, orient='index')\n",
    "plt.scatter(psg_f1_df, f1_df)\n",
    "plt.plot([0.5, 1], [0.5, 1], ls='dotted')\n",
    "plt.xlim((0.5, 1))\n",
    "plt.ylim((0.5, 1))\n",
    "plt.xlabel('PSG F-1 on AWS')\n",
    "plt.ylabel('Our F-1 on AWS')\n",
    "np.corrcoef(f1_df[0], psg_f1_df[0])"
   ]
  }
 ],
 "metadata": {
  "kernelspec": {
   "display_name": "sleep",
   "language": "python",
   "name": "python3"
  },
  "language_info": {
   "codemirror_mode": {
    "name": "ipython",
    "version": 3
   },
   "file_extension": ".py",
   "mimetype": "text/x-python",
   "name": "python",
   "nbconvert_exporter": "python",
   "pygments_lexer": "ipython3",
   "version": "3.11.5"
  }
 },
 "nbformat": 4,
 "nbformat_minor": 2
}
